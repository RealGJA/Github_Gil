{
 "cells": [
  {
   "cell_type": "code",
   "execution_count": 3,
   "metadata": {},
   "outputs": [
    {
     "name": "stdout",
     "output_type": "stream",
     "text": [
      "x=4373612677928697257861252602371390152816537558161613618621437993378423467772036\n",
      "y=36875131794129999827197811565225474825492979968971970996283137471637224634055579\n",
      "z=154476802108746166441951315019919837485664325669565431700026634898253202035277999\n",
      "Result is with x =  4.373612677928697e+78 , y =  3.687513179413e+79 z =  1.5447680210874615e+80  equals to:  3.9999999999999996\n"
     ]
    }
   ],
   "source": [
    "import math\n",
    "import decimal\n",
    "import numpy as np\n",
    "\n",
    "x = np.float(input('x='))\n",
    "y = np.float(input('y='))\n",
    "z = np.float(input('z='))\n",
    "\n",
    "Variable1 = np.float(x/(y+z))\n",
    "Variable2 = np.float(y/(x+z))\n",
    "Variable3 = np.float(z/(x+y))\n",
    "\n",
    "print('Result is with x = ', x, ', y = ', y, 'z = ', z, ' equals to: ', Variable1 + Variable2 + Variable3)\n",
    "\n"
   ]
  },
  {
   "cell_type": "code",
   "execution_count": 32,
   "metadata": {},
   "outputs": [],
   "source": [
    "x=4373612677928697257861252602371390152816537558161613618621437993378423467772036\n",
    "y=36875131794129999827197811565225474825492979968971970996283137471637224634055579\n",
    "z=154476802108746166441951315019919837485664325669565431700026634898253202035277999"
   ]
  },
  {
   "cell_type": "code",
   "execution_count": null,
   "metadata": {},
   "outputs": [],
   "source": []
  }
 ],
 "metadata": {
  "kernelspec": {
   "display_name": "Python 3",
   "language": "python",
   "name": "python3"
  },
  "language_info": {
   "codemirror_mode": {
    "name": "ipython",
    "version": 3
   },
   "file_extension": ".py",
   "mimetype": "text/x-python",
   "name": "python",
   "nbconvert_exporter": "python",
   "pygments_lexer": "ipython3",
   "version": "3.7.3"
  }
 },
 "nbformat": 4,
 "nbformat_minor": 2
}
