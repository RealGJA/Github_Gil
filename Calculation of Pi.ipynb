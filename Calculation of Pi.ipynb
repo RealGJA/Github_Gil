{
 "cells": [
  {
   "cell_type": "code",
   "execution_count": 22,
   "metadata": {
    "scrolled": false
   },
   "outputs": [
    {
     "ename": "SyntaxError",
     "evalue": "lambda cannot contain assignment (<ipython-input-22-25775f6e3fa5>, line 6)",
     "output_type": "error",
     "traceback": [
      "\u001b[1;36m  File \u001b[1;32m\"<ipython-input-22-25775f6e3fa5>\"\u001b[1;36m, line \u001b[1;32m6\u001b[0m\n\u001b[1;33m    count = sc.parallelize(range(0, lambda x: x = x + 1))              .filter(inside).count()\u001b[0m\n\u001b[1;37m                                   ^\u001b[0m\n\u001b[1;31mSyntaxError\u001b[0m\u001b[1;31m:\u001b[0m lambda cannot contain assignment\n"
     ]
    }
   ],
   "source": [
    "\n",
    "def inside(p):\n",
    "    x, y = random.random(), random.random()\n",
    "    return x*x + y*y < 1\n",
    "\n",
    "count = sc.parallelize(range(0, lambda x: x = x + 1)) \\\n",
    "             .filter(inside).count()\n",
    "#print \"Pi is roughly %f\" % (4.0 * count / NUM_SAMPLES)"
   ]
  },
  {
   "cell_type": "code",
   "execution_count": 6,
   "metadata": {},
   "outputs": [
    {
     "ename": "SyntaxError",
     "evalue": "invalid syntax (<ipython-input-6-ba8f16881e0f>, line 10)",
     "output_type": "error",
     "traceback": [
      "\u001b[1;36m  File \u001b[1;32m\"<ipython-input-6-ba8f16881e0f>\"\u001b[1;36m, line \u001b[1;32m10\u001b[0m\n\u001b[1;33m    print \"Pi is roughly %f\" % (4.0 * count / NUM_SAMPLES)\u001b[0m\n\u001b[1;37m                           ^\u001b[0m\n\u001b[1;31mSyntaxError\u001b[0m\u001b[1;31m:\u001b[0m invalid syntax\n"
     ]
    }
   ],
   "source": []
  },
  {
   "cell_type": "code",
   "execution_count": 16,
   "metadata": {},
   "outputs": [
    {
     "name": "stdout",
     "output_type": "stream",
     "text": [
      "3.14\n"
     ]
    }
   ],
   "source": [
    "import decimal\n",
    "\n",
    "def pi():\n",
    "    \"\"\"\n",
    "    Compute Pi to the current precision.\n",
    "\n",
    "    Examples\n",
    "    --------\n",
    "    >>> print(pi())\n",
    "    3.141592653589793238462643383\n",
    "\n",
    "    Notes\n",
    "    -----\n",
    "    Taken from https://docs.python.org/3/library/decimal.html#recipes\n",
    "    \"\"\"\n",
    "    decimal.getcontext().prec += 2  # extra digits for intermediate steps\n",
    "    three = decimal.Decimal(3)      # substitute \"three=3.0\" for regular floats\n",
    "    lasts, t, s, n, na, d, da = 0, three, 3, 1, 0, 0, 24\n",
    "    while s != lasts:\n",
    "        lasts = s\n",
    "        n, na = n + na, na + 8\n",
    "        d, da = d + da, da + 32\n",
    "        t = (t * n) / d\n",
    "        s += t\n",
    "    decimal.getcontext().prec -= 2\n",
    "    return +s               # unary plus applies the new precision\n",
    "\n",
    "decimal.getcontext().prec = 3\n",
    "pi = pi()\n",
    "\n",
    "print(pi)"
   ]
  },
  {
   "cell_type": "code",
   "execution_count": null,
   "metadata": {},
   "outputs": [],
   "source": []
  }
 ],
 "metadata": {
  "kernelspec": {
   "display_name": "Python 3",
   "language": "python",
   "name": "python3"
  },
  "language_info": {
   "codemirror_mode": {
    "name": "ipython",
    "version": 3
   },
   "file_extension": ".py",
   "mimetype": "text/x-python",
   "name": "python",
   "nbconvert_exporter": "python",
   "pygments_lexer": "ipython3",
   "version": "3.7.0"
  }
 },
 "nbformat": 4,
 "nbformat_minor": 2
}
