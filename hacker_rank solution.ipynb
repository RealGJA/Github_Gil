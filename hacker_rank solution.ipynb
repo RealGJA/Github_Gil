{
 "cells": [
  {
   "cell_type": "markdown",
   "metadata": {},
   "source": [
    "# Hacker Rank solutions to tough problems"
   ]
  },
  {
   "cell_type": "raw",
   "metadata": {},
   "source": [
    "Converting string date to Quarters"
   ]
  },
  {
   "cell_type": "code",
   "execution_count": 62,
   "metadata": {},
   "outputs": [
    {
     "data": {
      "text/plain": [
       "'2014Q1'"
      ]
     },
     "execution_count": 62,
     "metadata": {},
     "output_type": "execute_result"
    }
   ],
   "source": [
    "x = \"2014-03-15\"\n",
    "\n",
    "month = list(x)[5:7]\n",
    "''.join(month)\n",
    "out = list(x)[0:4]+ list(mappingmonths[''.join(month)])\n",
    "''.join(out)"
   ]
  },
  {
   "cell_type": "code",
   "execution_count": 64,
   "metadata": {},
   "outputs": [
    {
     "data": {
      "text/plain": [
       "'Q1'"
      ]
     },
     "execution_count": 64,
     "metadata": {},
     "output_type": "execute_result"
    }
   ],
   "source": [
    "mappingmonths[\"03\"]"
   ]
  },
  {
   "cell_type": "code",
   "execution_count": 83,
   "metadata": {},
   "outputs": [
    {
     "name": "stdout",
     "output_type": "stream",
     "text": [
      "2014-03-15\n",
      "03\n",
      "2016-10-15\n",
      "10\n"
     ]
    },
    {
     "data": {
      "text/plain": [
       "['2014Q1', '2016Q4']"
      ]
     },
     "execution_count": 83,
     "metadata": {},
     "output_type": "execute_result"
    }
   ],
   "source": [
    "dates = [\"2014-03-15\", \"2016-10-15\"]\n",
    "def calendar_map(date_Straings):\n",
    "    output =[]\n",
    "    for x in dates:\n",
    "        mappingmonths ={\n",
    "           '01': 'Q1',\n",
    "           '02': 'Q1',\n",
    "           '03': 'Q1',\n",
    "           '04': 'Q2',\n",
    "           '05': 'Q2',\n",
    "           '06': 'Q2',\n",
    "           '07': 'Q3',\n",
    "           '08': 'Q3',\n",
    "           '09': 'Q3',\n",
    "           '10': 'Q4',\n",
    "           '11': 'Q4',\n",
    "           '12': 'Q4',\n",
    "\n",
    "        }\n",
    "        print(x)\n",
    "        month = list(x)[5:7]\n",
    "        print(''.join(month))\n",
    "        out = list(x)[0:4]+ list(mappingmonths[''.join(month)])\n",
    "        output.append(''.join(out))\n",
    "    \n",
    "    return output\n",
    "\n",
    "calendar_map(dates)"
   ]
  },
  {
   "cell_type": "raw",
   "metadata": {},
   "source": [
    "Toy BUYING PROBLEM with constrained budget"
   ]
  },
  {
   "cell_type": "code",
   "execution_count": 66,
   "metadata": {},
   "outputs": [],
   "source": [
    "\n",
    "def maximumToys(prices, k):\n",
    "    prices.sort()\n",
    "    count = 0\n",
    "    for i in prices:\n",
    "        if (i <= k):\n",
    "            count += 1\n",
    "            k -= i\n",
    "        else:\n",
    "            break\n",
    "    return count"
   ]
  },
  {
   "cell_type": "code",
   "execution_count": 85,
   "metadata": {},
   "outputs": [
    {
     "data": {
      "text/plain": [
       "1"
      ]
     },
     "execution_count": 85,
     "metadata": {},
     "output_type": "execute_result"
    }
   ],
   "source": [
    "maximumToys([10,10,10],12)"
   ]
  },
  {
   "cell_type": "code",
   "execution_count": 68,
   "metadata": {},
   "outputs": [],
   "source": [
    "def getMaximumOutfits(outfits, money):\n",
    "    # Write your code here\n",
    "    outfits.sort()\n",
    "    count = 0\n",
    "    for i in outfits:\n",
    "        if (i <= money):\n",
    "            count += 1\n",
    "            money -= i\n",
    "        else:\n",
    "            break\n",
    "    return count"
   ]
  },
  {
   "cell_type": "raw",
   "metadata": {},
   "source": [
    "Circles if they intersect or they are inside each other or they are concentric "
   ]
  },
  {
   "cell_type": "code",
   "execution_count": 76,
   "metadata": {},
   "outputs": [
    {
     "name": "stdout",
     "output_type": "stream",
     "text": [
      "Circle touch to each other.\n"
     ]
    }
   ],
   "source": [
    "def circle(x1, y1, x2, y2, r1, r2): \n",
    "   \n",
    "    distSq = (x1 - x2) * (x1 - x2) + (y1 - y2) * (y1 - y2);  \n",
    "    radSumSq = (r1 + r2) * (r1 + r2);  \n",
    "    if (distSq == radSumSq): \n",
    "        return 1 \n",
    "    elif (distSq > radSumSq): \n",
    "        return -1 \n",
    "    else: \n",
    "        return 0 \n",
    "   \n",
    "  \n",
    "# Driver code \n",
    "x1 = -10\n",
    "y1 = 8 \n",
    "x2 = 14\n",
    "y2 = -24 \n",
    "r1 = 30\n",
    "r2 = 10 \n",
    "  \n",
    "t = circle(x1, y1, x2, y2, r1, r2)  \n",
    "if (t == 1): \n",
    "    print(\"Circle touch to each other.\")  \n",
    "elif (t < 0): \n",
    "    print(\"Circle not touch to each other.\")  \n",
    "else: \n",
    "    print(\"Circle intersect to each other.\")  \n",
    "  \n",
    "# This code is contributed by \n",
    "# Smitha Dinesh Semwal "
   ]
  },
  {
   "cell_type": "code",
   "execution_count": 77,
   "metadata": {},
   "outputs": [
    {
     "name": "stdout",
     "output_type": "stream",
     "text": [
      "Circle touch to each other.\n"
     ]
    }
   ],
   "source": [
    "def circle(x1, y1, r1, x2, y2, r2): \n",
    "   \n",
    "    distSq = (x1 - x2) * (x1 - x2) + (y1 - y2) * (y1 - y2);  \n",
    "    radSumSq = (r1 + r2) * (r1 + r2);  \n",
    "    if (distSq == radSumSq): \n",
    "        return 1 \n",
    "    elif (distSq > radSumSq): \n",
    "        return -1 \n",
    "    else: \n",
    "        return 0 \n",
    "   \n",
    "  \n",
    "# Driver code \n",
    "x1 = -10\n",
    "y1 = 8 \n",
    "x2 = 14\n",
    "y2 = -24 \n",
    "r1 = 30\n",
    "r2 = 10 \n",
    "  \n",
    "t = circle(x1, y1, r1, x2, y2,  r2)  \n",
    "if (t == 1): \n",
    "    print(\"Circle touch to each other.\")  \n",
    "elif (t < 0): \n",
    "    print(\"Circle not touch to each other.\")  \n",
    "else: \n",
    "    print(\"Circle intersect to each other.\")  \n",
    "  \n",
    "# This code is contributed by \n",
    "# Smitha Dinesh Semwal "
   ]
  },
  {
   "cell_type": "code",
   "execution_count": 91,
   "metadata": {},
   "outputs": [
    {
     "data": {
      "text/plain": [
       "'Disjoint-Outside'"
      ]
     },
     "execution_count": 91,
     "metadata": {},
     "output_type": "execute_result"
    }
   ],
   "source": [
    "def circle(x1, y1, r1, x2, y2, r2): \n",
    "   \n",
    "    distSq = (x1 - x2) * (x1 - x2) + (y1 - y2) * (y1 - y2);  \n",
    "    radSumSq = (r1 + r2) * (r1 + r2);  \n",
    "    if x1==x2 and y1==y2:\n",
    "        return 'Concentric'\n",
    "    if (distSq == radSumSq): \n",
    "        return 'Touching' \n",
    "    elif r1 > ( distSq + r2 ):\n",
    "        return \"Disjoint-Inside\"\n",
    "    elif r1 < ( distSq + r2 ):\n",
    "        return \"Disjoint-Outside\"\n",
    "    else: \n",
    "        return \"Intersecting\"\n",
    "   \n",
    "  \n",
    "# Driver code \n",
    "x1 = 5\n",
    "y1 = 8 \n",
    "x2 = 14\n",
    "y2 = 13 \n",
    "r1 = 98\n",
    "r2 = 5 \n",
    "  \n",
    "t = circle(x1, y1, r1, x2, y2,  r2)  \n",
    "t"
   ]
  },
  {
   "cell_type": "code",
   "execution_count": 72,
   "metadata": {},
   "outputs": [
    {
     "data": {
      "text/plain": [
       "'Concentric'"
      ]
     },
     "execution_count": 72,
     "metadata": {},
     "output_type": "execute_result"
    }
   ],
   "source": [
    "circle(1, 2, 5, 1, 2,  10) "
   ]
  },
  {
   "cell_type": "code",
   "execution_count": 78,
   "metadata": {},
   "outputs": [
    {
     "name": "stdout",
     "output_type": "stream",
     "text": [
      "Circle info\n",
      "[]\n"
     ]
    }
   ],
   "source": [
    "for x in range(1):\n",
    "    cir_input = input(\"Circle info\")\n",
    "    print(cir_input.split())"
   ]
  },
  {
   "cell_type": "code",
   "execution_count": 81,
   "metadata": {},
   "outputs": [],
   "source": [
    "def fun1(npoints):\n",
    "    input_array = []\n",
    "    for x in range(npoints):\n",
    "        cir_input = input(\"Circle info\")\n",
    "        input_array.append(cir_input.split())\n",
    "    \n",
    "    for x in input_array:\n",
    "        print(circle(x))       \n",
    "        "
   ]
  },
  {
   "cell_type": "code",
   "execution_count": 80,
   "metadata": {},
   "outputs": [],
   "source": [
    "#\n",
    "# Complete the 'circles' function below.\n",
    "#\n",
    "# The function is expected to return a STRING_ARRAY.\n",
    "# The function accepts STRING_ARRAY info as parameter.\n",
    "#\n",
    "\n",
    "def circle(x1, y1, r1, x2, y2, r2): \n",
    "   \n",
    "    distSq = (x1 - x2) * (x1 - x2) + (y1 - y2) * (y1 - y2);  \n",
    "    radSumSq = (r1 + r2) * (r1 + r2);  \n",
    "    if x1==x2 and y1==y2:\n",
    "        return 'Concentric'\n",
    "    if (distSq == radSumSq): \n",
    "        return 'Touching' \n",
    "    elif r1 > ( distSq + r2 ):\n",
    "        return \"Disjoint-Inside\"\n",
    "    elif r1 < ( distSq + r2 ):\n",
    "        return \"Disjoint-Outside\"\n",
    "    else: \n",
    "        return \"Intersecting\"\n",
    "   \n",
    "\n",
    "def circles(info):\n",
    "    input_array = []\n",
    "    for x in range(info):\n",
    "        cir_input = input(\"Circle info\")\n",
    "        input_array.append(cir_input.split())\n",
    "    \n",
    "    for x in input_array:\n",
    "        print(circle(x))\n"
   ]
  },
  {
   "cell_type": "code",
   "execution_count": null,
   "metadata": {},
   "outputs": [],
   "source": []
  },
  {
   "cell_type": "code",
   "execution_count": null,
   "metadata": {},
   "outputs": [],
   "source": []
  },
  {
   "cell_type": "code",
   "execution_count": null,
   "metadata": {},
   "outputs": [],
   "source": []
  }
 ],
 "metadata": {
  "kernelspec": {
   "display_name": "Python 3",
   "language": "python",
   "name": "python3"
  },
  "language_info": {
   "codemirror_mode": {
    "name": "ipython",
    "version": 3
   },
   "file_extension": ".py",
   "mimetype": "text/x-python",
   "name": "python",
   "nbconvert_exporter": "python",
   "pygments_lexer": "ipython3",
   "version": "3.7.3"
  }
 },
 "nbformat": 4,
 "nbformat_minor": 2
}
