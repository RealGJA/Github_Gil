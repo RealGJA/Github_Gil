{
 "cells": [
  {
   "cell_type": "code",
   "execution_count": 2,
   "metadata": {},
   "outputs": [],
   "source": [
    "import requests\n",
    "from bs4 import BeautifulSoup\n",
    "\n",
    "html = requests.get(\"http://shakespeare.mit.edu/lll/full.html\")\n",
    "bsobj = BeautifulSoup(html.content, \"html.parser\")"
   ]
  },
  {
   "cell_type": "code",
   "execution_count": 3,
   "metadata": {},
   "outputs": [
    {
     "ename": "TypeError",
     "evalue": "'NoneType' object is not callable",
     "output_type": "error",
     "traceback": [
      "\u001b[1;31m---------------------------------------------------------------------------\u001b[0m",
      "\u001b[1;31mTypeError\u001b[0m                                 Traceback (most recent call last)",
      "\u001b[1;32m<ipython-input-3-2dedfbda2612>\u001b[0m in \u001b[0;36m<module>\u001b[1;34m()\u001b[0m\n\u001b[1;32m----> 1\u001b[1;33m \u001b[0mbsobj\u001b[0m\u001b[1;33m.\u001b[0m\u001b[0mParse\u001b[0m\u001b[1;33m(\u001b[0m\u001b[1;33m)\u001b[0m\u001b[1;33m\u001b[0m\u001b[0m\n\u001b[0m",
      "\u001b[1;31mTypeError\u001b[0m: 'NoneType' object is not callable"
     ]
    }
   ],
   "source": [
    "bsobj.Parse()"
   ]
  },
  {
   "cell_type": "code",
   "execution_count": 3,
   "metadata": {},
   "outputs": [],
   "source": [
    "import requests\n",
    "from bs4 import BeautifulSoup\n",
    "\n",
    "html = requests.get(\"https://www.indeed.com/jwidget.js?pub=8772657697788355&chnl=Cox%20Automotive&el=indJobContent&fcckey=3f37b31c26e75400&l=New%20York&n=3&lm=60+30&rtgt=0&s=0&rq=python%20developer&v=3.0.2\")\n",
    "bsobj = BeautifulSoup(html.content, \"html.parser\")"
   ]
  },
  {
   "cell_type": "code",
   "execution_count": 4,
   "metadata": {},
   "outputs": [
    {
     "name": "stdout",
     "output_type": "stream",
     "text": [
      "\n",
      "window['indeed_clk'] = function(a,sig) { var hr = a.href; var si = hr.indexOf('&amp;jsa='); if (si &gt; 0) return; var jsh = hr + '&amp;jsa=' + sig; if ( jsh.indexOf('&amp;inchal') == -1 ) jsh += '&amp;inchal=jswresults'; a.href = jsh; }\n",
      "if (window['indeedJobroll'] != undefined) { window['indeedJobroll']['jobsCallback']('indJobContent', '    <div id='\\\"featemp_results\\\"'>\\n    <div class='\\\"job\\\"' id='\\\"job_0\\\"'>\\n        <a class='\\\"jobtitle\\\"' href='\\\"https:\\/\\/www.indeed.com\\/pagead\\/clk?mo=r&amp;ad=-6NYlbfkN0CNTaigg53tgKMQQsjdGlhApYl6RSsbpQl6QWYzGuod71pxO7dsQqrwqozJsjZIyx1oS0zcWtYHW9h4qx2ILbhiHWRnKCq-owpocZMnT0RdDADT2oYdB1j2UMFEgvJXg-b1VxK2yrnr_vty3nKXLDqTdqp6KoSxZIpu-CddsUyktRVy5FqPrq_s3BfmcFMArXaSokc1fuaVnxa0E_vfYlognFQAtmSmLomSI-NXO9HeF36JoDSgNX9ZQ-v4LdDUg0z-zlwM4LQtJfbkWZh_2wmgOrMJmkCQWVBfiL_K4PnZUZcvTd_sXvZ9-gFQX_h-iUz9-Rw38qI5vnBvPBYpFuT5j9rWl3cqm_HLtkUedr_LXsuDSVKZLTpIwxhWZSlFjxWxMeH031cA1ncJUzTfLCCcAYgOxVtypv6-IPAlCuXVxe0dZp6ol60xG-CKPav9zXvZ1iD3UnjXokiGxwB2ULQDtIsw3IksSVs=&amp;atk=\\\"' nofollow\\\"=\"\" noreferrer=\"\" onmousedown=\"\\&quot;indeed_clk(this,\\'4956\\');\\&quot;\" rel='\\\"noopener' target='\\\"_blank\\\"'>Software Engineer I&lt;\\/a&gt;\\n    &lt;\\/div&gt;\\n    <div class='\\\"job\\\"' id='\\\"job_1\\\"'>\\n        <a class='\\\"jobtitle\\\"' href='\\\"https:\\/\\/www.indeed.com\\/pagead\\/clk?mo=r&amp;ad=-6NYlbfkN0CNTaigg53tgKMQQsjdGlhApYl6RSsbpQl6QWYzGuod71pxO7dsQqrwqozJsjZIyx1joyEr7KDnbK-vmVwhkbM1PWFsDnTiWpPngyiIOAbqJ4bTDUQAEc56M0koSZ9VVP5xyyKnBCCBetQX-dXSSv3ubJP5c9jnAtJi-FKxbz5c9lMgunUfg1tqwxiTXp8ZnoKA7gmPZQKoJHfLyrPwacfCSh2XJkwFSrbrUHqGKUteiGgUJQ3EjWuwaxicUF7cSyCqMkD3ICeS8jXHU1hijI5c_7YEhqBWMAWNEO7Mw0w5lgozXElg03rlbLTVlKKGOSsX8ukt8RaMcyH-Vw210k6sQmF_E1-EG2oiQOL9lDwMkGKyX8uoieFnrIEBliTiZcx-ukCsfeHT_UpzcrsBu2XdeMKNU5oW1X92MgCZm0XlyaxGdRF4QNjYvBxfszQZqeyBu95Voj-Deg8gjcWjRPsGQ2-uN-TB4-w=&amp;atk=\\\"' nofollow\\\"=\"\" noreferrer=\"\" onmousedown=\"\\&quot;indeed_clk(this,\\'4956\\');\\&quot;\" rel='\\\"noopener' target='\\\"_blank\\\"'>Principal Technical Architect, ( F &amp; I)&lt;\\/a&gt;\\n    &lt;\\/div&gt;\\n    <div class='\\\"job\\\"' id='\\\"job_2\\\"'>\\n        <a class='\\\"jobtitle\\\"' href='\\\"https:\\/\\/www.indeed.com\\/pagead\\/clk?mo=r&amp;ad=-6NYlbfkN0CNTaigg53tgKMQQsjdGlhApYl6RSsbpQl6QWYzGuod71pxO7dsQqrwqozJsjZIyx1joyEr7KDnbOqrdNB9_BHsxoQVDITcrY6YYNWpgOTg-jY1is3U0UJYVrbXv--Qz7nDph_HYWnxgbl4hC_CLPe8ckXrULVUhzTs_a5mUO4xJhcDmDXel2zO3LqYsiPdhnzTXjr1PwK90ud-pMh0wg6CvAesOUHn9oqJO7SJ47nBkYLWTD3fN2y1o2gYZ98_TaFvEhp2F55GpXDJ4vDg3qCQN4YZ78o1k_soNPfFydryZmvDQh56HsKYplz6ItIzu2hCFSjSMEtNxVQ53F23Z6yWRlaRNGIz_BcQ-E2URiJlV88UJ-hVAXI4I9ITZ5hT2rf6MCpCEaU5RiimG7SW-CfQrg1Xah9qMDQUmpN4KJx2QD8GeF4YKjN3bTVhR8WfUMnXMXIO3bdQjRWooD6mtUk6_-HviyH4dUU=&amp;atk=\\\"' nofollow\\\"=\"\" noreferrer=\"\" onmousedown=\"\\&quot;indeed_clk(this,\\'4956\\');\\&quot;\" rel='\\\"noopener' target='\\\"_blank\\\"'>UX Architect&lt;\\/a&gt;\\n    &lt;\\/div&gt;\\n    &lt;\\/div&gt;\\n'); } else  { var ind_jobs_el = document.getElementById('indJobContent'); var ind_err = null; if (ind_jobs_el)  { ind_jobs_el.innerHTML='    <div id='\\\"featemp_results\\\"'>\\n    <div class='\\\"job\\\"' id='\\\"job_0\\\"'>\\n        <a class='\\\"jobtitle\\\"' href='\\\"https:\\/\\/www.indeed.com\\/pagead\\/clk?mo=r&amp;ad=-6NYlbfkN0CNTaigg53tgKMQQsjdGlhApYl6RSsbpQl6QWYzGuod71pxO7dsQqrwqozJsjZIyx1oS0zcWtYHW9h4qx2ILbhiHWRnKCq-owpocZMnT0RdDADT2oYdB1j2UMFEgvJXg-b1VxK2yrnr_vty3nKXLDqTdqp6KoSxZIpu-CddsUyktRVy5FqPrq_s3BfmcFMArXaSokc1fuaVnxa0E_vfYlognFQAtmSmLomSI-NXO9HeF36JoDSgNX9ZQ-v4LdDUg0z-zlwM4LQtJfbkWZh_2wmgOrMJmkCQWVBfiL_K4PnZUZcvTd_sXvZ9-gFQX_h-iUz9-Rw38qI5vnBvPBYpFuT5j9rWl3cqm_HLtkUedr_LXsuDSVKZLTpIwxhWZSlFjxWxMeH031cA1ncJUzTfLCCcAYgOxVtypv6-IPAlCuXVxe0dZp6ol60xG-CKPav9zXvZ1iD3UnjXokiGxwB2ULQDtIsw3IksSVs=&amp;atk=\\\"' nofollow\\\"=\"\" noreferrer=\"\" onmousedown=\"\\&quot;indeed_clk(this,\\'4956\\');\\&quot;\" rel='\\\"noopener' target='\\\"_blank\\\"'>Software Engineer I&lt;\\/a&gt;\\n    &lt;\\/div&gt;\\n    <div class='\\\"job\\\"' id='\\\"job_1\\\"'>\\n        <a class='\\\"jobtitle\\\"' href='\\\"https:\\/\\/www.indeed.com\\/pagead\\/clk?mo=r&amp;ad=-6NYlbfkN0CNTaigg53tgKMQQsjdGlhApYl6RSsbpQl6QWYzGuod71pxO7dsQqrwqozJsjZIyx1joyEr7KDnbK-vmVwhkbM1PWFsDnTiWpPngyiIOAbqJ4bTDUQAEc56M0koSZ9VVP5xyyKnBCCBetQX-dXSSv3ubJP5c9jnAtJi-FKxbz5c9lMgunUfg1tqwxiTXp8ZnoKA7gmPZQKoJHfLyrPwacfCSh2XJkwFSrbrUHqGKUteiGgUJQ3EjWuwaxicUF7cSyCqMkD3ICeS8jXHU1hijI5c_7YEhqBWMAWNEO7Mw0w5lgozXElg03rlbLTVlKKGOSsX8ukt8RaMcyH-Vw210k6sQmF_E1-EG2oiQOL9lDwMkGKyX8uoieFnrIEBliTiZcx-ukCsfeHT_UpzcrsBu2XdeMKNU5oW1X92MgCZm0XlyaxGdRF4QNjYvBxfszQZqeyBu95Voj-Deg8gjcWjRPsGQ2-uN-TB4-w=&amp;atk=\\\"' nofollow\\\"=\"\" noreferrer=\"\" onmousedown=\"\\&quot;indeed_clk(this,\\'4956\\');\\&quot;\" rel='\\\"noopener' target='\\\"_blank\\\"'>Principal Technical Architect, ( F &amp; I)&lt;\\/a&gt;\\n    &lt;\\/div&gt;\\n    <div class='\\\"job\\\"' id='\\\"job_2\\\"'>\\n        <a class='\\\"jobtitle\\\"' href='\\\"https:\\/\\/www.indeed.com\\/pagead\\/clk?mo=r&amp;ad=-6NYlbfkN0CNTaigg53tgKMQQsjdGlhApYl6RSsbpQl6QWYzGuod71pxO7dsQqrwqozJsjZIyx1joyEr7KDnbOqrdNB9_BHsxoQVDITcrY6YYNWpgOTg-jY1is3U0UJYVrbXv--Qz7nDph_HYWnxgbl4hC_CLPe8ckXrULVUhzTs_a5mUO4xJhcDmDXel2zO3LqYsiPdhnzTXjr1PwK90ud-pMh0wg6CvAesOUHn9oqJO7SJ47nBkYLWTD3fN2y1o2gYZ98_TaFvEhp2F55GpXDJ4vDg3qCQN4YZ78o1k_soNPfFydryZmvDQh56HsKYplz6ItIzu2hCFSjSMEtNxVQ53F23Z6yWRlaRNGIz_BcQ-E2URiJlV88UJ-hVAXI4I9ITZ5hT2rf6MCpCEaU5RiimG7SW-CfQrg1Xah9qMDQUmpN4KJx2QD8GeF4YKjN3bTVhR8WfUMnXMXIO3bdQjRWooD6mtUk6_-HviyH4dUU=&amp;atk=\\\"' nofollow\\\"=\"\" noreferrer=\"\" onmousedown=\"\\&quot;indeed_clk(this,\\'4956\\');\\&quot;\" rel='\\\"noopener' target='\\\"_blank\\\"'>UX Architect&lt;\\/a&gt;\\n    &lt;\\/div&gt;\\n    &lt;\\/div&gt;\\n'; } else { ind_err = \"no_elt\"; }\n",
      "} </a></div></a></div></a></div></div></a></div></a></div></a></div></div>\n"
     ]
    }
   ],
   "source": [
    "print(bsobj)"
   ]
  },
  {
   "cell_type": "code",
   "execution_count": 6,
   "metadata": {},
   "outputs": [],
   "source": [
    "salary = bsobj.findAll(\"span\", class_=\"no-wrap\")"
   ]
  },
  {
   "cell_type": "code",
   "execution_count": 7,
   "metadata": {},
   "outputs": [
    {
     "name": "stdout",
     "output_type": "stream",
     "text": [
      "[]\n"
     ]
    }
   ],
   "source": [
    "print(salary)"
   ]
  },
  {
   "cell_type": "code",
   "execution_count": 4,
   "metadata": {},
   "outputs": [],
   "source": [
    "snippets=bsobj.findAll(\"Span\", class_=\"summary\")"
   ]
  },
  {
   "cell_type": "code",
   "execution_count": 8,
   "metadata": {},
   "outputs": [],
   "source": [
    "snippets = [s.get_text().strip() for s in snippets]"
   ]
  },
  {
   "cell_type": "code",
   "execution_count": 9,
   "metadata": {},
   "outputs": [],
   "source": [
    "TMPL = '''\n",
    "   Title: {title}\n",
    "   Snippet: {snippet}\n",
    "   Link: {link}\n",
    "   '''"
   ]
  },
  {
   "cell_type": "code",
   "execution_count": null,
   "metadata": {},
   "outputs": [],
   "source": [
    "positions = zip(titles snippets, links)"
   ]
  }
 ],
 "metadata": {
  "kernelspec": {
   "display_name": "Python 3",
   "language": "python",
   "name": "python3"
  },
  "language_info": {
   "codemirror_mode": {
    "name": "ipython",
    "version": 3
   },
   "file_extension": ".py",
   "mimetype": "text/x-python",
   "name": "python",
   "nbconvert_exporter": "python",
   "pygments_lexer": "ipython3",
   "version": "3.7.0"
  }
 },
 "nbformat": 4,
 "nbformat_minor": 2
}
